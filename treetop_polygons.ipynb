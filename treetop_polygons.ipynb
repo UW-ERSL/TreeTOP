{
 "cells": [
  {
   "cell_type": "markdown",
   "metadata": {},
   "source": [
    "# Imports"
   ]
  },
  {
   "cell_type": "code",
   "execution_count": null,
   "metadata": {},
   "outputs": [],
   "source": [
    "from typing import Tuple, Dict, Callable\n",
    "import yaml\n",
    "import pickle\n",
    "import copy\n",
    "from datetime import datetime\n",
    "import numpy as np\n",
    "import jax.numpy as jnp\n",
    "from jax import value_and_grad\n",
    "import jax\n",
    "import matplotlib.pyplot as plt\n",
    "\n",
    "import mesher\n",
    "import bound_cond\n",
    "import material\n",
    "import fea\n",
    "import polygon\n",
    "import tree\n",
    "import mma\n",
    "import utils\n",
    "import plot_utils\n",
    "\n",
    "\n",
    "jax.config.update(\"jax_debug_nans\", True)\n",
    "plt.rcParams.update(plot_utils.high_res_plot_settings)\n",
    "\n",
    "import matplotlib as mpl\n",
    "mpl.rcParams['figure.dpi'] = 100\n",
    "_Ext = utils.Extent\n",
    "poly_cmap = plot_utils.poly_cmap"
   ]
  },
  {
   "cell_type": "markdown",
   "metadata": {},
   "source": [
    "# Configs"
   ]
  },
  {
   "cell_type": "code",
   "execution_count": null,
   "metadata": {},
   "outputs": [],
   "source": [
    "with open('settings.yaml', 'r') as file:\n",
    "  config = yaml.safe_load(file)\n",
    "\n",
    "cfg_bbox = config['BBOX']\n",
    "cfg_mesh = config['MESH']\n",
    "cfg_mat = config['MATERIAL']\n",
    "cfg_bc = config['BOUNDARY_COND']\n",
    "cfg_opt = config['OPTIMIZATION']\n",
    "cfg_quad = config['QUADRIC']\n",
    "cfg_tree = config['TREE']"
   ]
  },
  {
   "cell_type": "markdown",
   "metadata": {},
   "source": [
    "# Mesh"
   ]
  },
  {
   "cell_type": "code",
   "execution_count": null,
   "metadata": {},
   "outputs": [],
   "source": [
    "bbox = mesher.BoundingBox(x=_Ext(cfg_bbox['x_min'], cfg_bbox['x_max']),\n",
    "                          y=_Ext(cfg_bbox['y_min'], cfg_bbox['y_max']))\n",
    "mesh = mesher.BilinearStructMesher(nelx=cfg_mesh['nelx'],\n",
    "                                   nely=cfg_mesh['nely'],\n",
    "                                   bounding_box=bbox)"
   ]
  },
  {
   "cell_type": "markdown",
   "metadata": {},
   "source": [
    "# Material"
   ]
  },
  {
   "cell_type": "code",
   "execution_count": null,
   "metadata": {},
   "outputs": [],
   "source": [
    "mat = material.Material(youngs_modulus=cfg_mat['youngs_modulus'],\n",
    "                        poissons_ratio=cfg_mat['poissons_ratio'],\n",
    "                        )"
   ]
  },
  {
   "cell_type": "markdown",
   "metadata": {},
   "source": [
    "# Boundary condition"
   ]
  },
  {
   "cell_type": "code",
   "execution_count": null,
   "metadata": {},
   "outputs": [],
   "source": [
    "bc = bound_cond.get_sample_struct_bc(mesh, bound_cond.SturctBCs[cfg_bc['example']])"
   ]
  },
  {
   "cell_type": "markdown",
   "metadata": {},
   "source": [
    "# Solver"
   ]
  },
  {
   "cell_type": "code",
   "execution_count": null,
   "metadata": {},
   "outputs": [],
   "source": [
    "solver = fea.FEA(mesh, mat, bc)"
   ]
  },
  {
   "cell_type": "markdown",
   "metadata": {},
   "source": [
    "# Init tree"
   ]
  },
  {
   "cell_type": "code",
   "execution_count": null,
   "metadata": {},
   "outputs": [],
   "source": [
    "num_levels = cfg_tree['num_levels'] # 6 -> corresponds to 2^6 = 64 base polygons\n",
    "num_shapes = 2**num_levels\n",
    "num_operators = 2**num_levels - 1"
   ]
  },
  {
   "cell_type": "markdown",
   "metadata": {},
   "source": [
    "# Init poly params"
   ]
  },
  {
   "cell_type": "code",
   "execution_count": null,
   "metadata": {},
   "outputs": [],
   "source": [
    "poly_ext = polygon.PolygonExtents(\n",
    "  num_planes_in_a_poly=6,\n",
    "  num_polys=num_shapes,\n",
    "  center_x=_Ext(cfg_quad['cx_min'], cfg_quad['cx_max']),\n",
    "  center_y=_Ext(cfg_quad['cy_min'], cfg_quad['cy_max']),\n",
    "  angle_offset=_Ext(cfg_quad['th_min'], cfg_quad['th_max']),\n",
    "  face_offset=_Ext(cfg_quad['a_min'], cfg_quad['a_max']),\n",
    ")"
   ]
  },
  {
   "cell_type": "markdown",
   "metadata": {},
   "source": [
    "# Init design var"
   ]
  },
  {
   "cell_type": "code",
   "execution_count": null,
   "metadata": {},
   "outputs": [],
   "source": [
    "seed = 0\n",
    "init_polys = polygon.init_random_polys(poly_ext, seed=seed)\n",
    "\n",
    "init_prim_des_var = init_polys.to_normalized_array(poly_ext)\n",
    "\n",
    "num_prim_des_var = init_prim_des_var.shape[0]\n",
    "\n",
    "# init operators\n",
    "np.random.seed(seed)\n",
    "init_operations = np.random.uniform(low=0., high=1., size=(num_operators*4,))\n",
    "num_oper_des_var = init_operations.shape[0]\n",
    "\n",
    "init_design_var = np.hstack((init_prim_des_var, init_operations)).reshape((-1, 1))"
   ]
  },
  {
   "cell_type": "markdown",
   "metadata": {},
   "source": [
    "# Optimizer"
   ]
  },
  {
   "cell_type": "code",
   "execution_count": null,
   "metadata": {},
   "outputs": [],
   "source": [
    "class Optimizer:\n",
    "\n",
    "\n",
    "  def __init__(self,\n",
    "               lossfn: Callable,\n",
    "               mesh: mesher.BilinearStructMesher):\n",
    "    self.lossfn, self.mesh = lossfn, mesh\n",
    "\n",
    "  def get_poly_params_and_operator_from_design_var(self,\n",
    "                                                    design_var: jnp.ndarray,\n",
    "                                                     softmax_temperature: float\n",
    "                                                     )-> Tuple[polygon.ConvexPolys,\n",
    "                                                                 jnp.ndarray]:\n",
    "    \n",
    "    \"\"\"\n",
    "      Computes polygon parameters and operations from the design variables.\n",
    "\n",
    "      Args:\n",
    "        design_var : Array representing the design variables.\n",
    "        softmax_temperature : Temperature parameter for the softmax function that makes the operators more closer to \n",
    "                              a one-hot encoding.\n",
    "      Returns:\n",
    "        Tuple: A tuple containing the polygon parameters and the operations array.\n",
    "      \"\"\"\n",
    "    poly_des_var = design_var[:num_prim_des_var]\n",
    "    oper_des_var = design_var[num_prim_des_var:].reshape((num_operators, 4))\n",
    "\n",
    "    poly_params = polygon.ConvexPolys.from_normalized_array(poly_des_var,\n",
    "                                                            poly_extents=poly_ext)\n",
    "    operations = tree.get_operators_from_design_var(oper_des_var,\n",
    "                                                    t=softmax_temperature)\n",
    "\n",
    "    return poly_params, operations\n",
    "  def constraint_fn(self,\n",
    "                    design_var: jnp.ndarray,\n",
    "                    max_vol_frac: float\n",
    "                    ) -> Tuple[jnp.ndarray, jnp.ndarray]:\n",
    "    \n",
    "    \"\"\"\n",
    "      Computes the volume constraint function for optimization.\n",
    "\n",
    "      Args:\n",
    "        design_var: Array representing the design variables: primitive params and operators.\n",
    "        max_vol_frac : Maximum volume fraction constraint.\n",
    "\n",
    "      Returns:\n",
    "        Tuple: A tuple containing the volume constraint value and its gradient.\n",
    "      \"\"\"\n",
    "\n",
    "\n",
    "    def volume_constraint(design_var:jnp.ndarray)-> float:\n",
    "      softmax_temperature = min(400., 10. + self.mma_state.epoch*5.)\n",
    "      proj_sharpness = min(12., 1. + self.mma_state.epoch*0.06)\n",
    "\n",
    "      poly_params, operations = self.get_poly_params_and_operator_from_design_var(\n",
    "                                                design_var, softmax_temperature)\n",
    "      poly_sdf = polygon.compute_poly_sdf(poly_params, self.mesh)\n",
    "      poly_density = polygon.project_sdf_to_density(poly_sdf, self.mesh)\n",
    "      proj_poly_density = material.projection_filter(poly_density,\n",
    "                                                        beta=proj_sharpness)\n",
    "      csg_root = tree.eval_binary_csg_tree(proj_poly_density, operations)\n",
    "      design_density = material.projection_filter(\n",
    "                               csg_root.value, beta=proj_sharpness)\n",
    "      occupied_volume = jnp.einsum('i,i->i',self.mesh.elem_area, design_density).sum()\n",
    "      volcons =  occupied_volume/(max_vol_frac*self.mesh.domain_volume) - 1.\n",
    "\n",
    "      return volcons\n",
    "\n",
    "    vc, dvc = value_and_grad(volume_constraint)(design_var.reshape((-1)))\n",
    "\n",
    "    return jnp.array([vc]).reshape((-1,1)), dvc.reshape((1,-1))\n",
    "\n",
    "  def objective_fn(self,\n",
    "                   design_var: jnp.ndarray\n",
    "                   )-> Tuple[jnp.ndarray, jnp.ndarray]:\n",
    "    \n",
    "    \"\"\"\n",
    "      Computes the objective function (complaince) and its gradient for the optimization.\n",
    "\n",
    "      Args:\n",
    "        design_var: Array representing the design variables: primitive params and operators.\n",
    "\n",
    "      Returns:\n",
    "        Tuple: A tuple containing the objective value (complaince), its gradient, and auxiliary data.\n",
    "    \"\"\"\n",
    "\n",
    "    def obj_wrapper(design_var:jnp.ndarray)-> float:\n",
    "\n",
    "      softmax_temperature = min(400., 10. + self.mma_state.epoch*5.)\n",
    "      proj_sharpness = min(12., 1. + self.mma_state.epoch*0.06)\n",
    "      poly_params, operations = self.get_poly_params_and_operator_from_design_var(\n",
    "                                                design_var, softmax_temperature)\n",
    "      poly_sdf = polygon.compute_poly_sdf(poly_params, self.mesh)\n",
    "      poly_density = polygon.project_sdf_to_density(poly_sdf, self.mesh)\n",
    "      proj_poly_density = material.projection_filter(poly_density,\n",
    "                                                        beta=proj_sharpness)\n",
    "      csg_root = tree.eval_binary_csg_tree(proj_poly_density, operations)\n",
    "      design_density = material.projection_filter(\n",
    "                               csg_root.value, beta=proj_sharpness) + 2.e-2\n",
    "      obj = self.lossfn(design_density.reshape((-1)))\n",
    "      return obj, (design_density, poly_params, operations, csg_root)\n",
    "\n",
    "    ((obj,\n",
    "      (density, poly_params, operations, csg_root)), \n",
    "      grad_obj) = value_and_grad(obj_wrapper, has_aux=True\n",
    "                                              )(design_var.reshape((-1)))\n",
    "    return jnp.array([obj]), grad_obj.reshape((-1, 1)), (density, poly_params,\n",
    "                                                         operations, csg_root)\n",
    "\n",
    "\n",
    "  def optimize(self,\n",
    "               init_design_var: jnp.ndarray,\n",
    "               max_vol_frac: float,\n",
    "               max_iter: int,\n",
    "               kkt_tol: float=1e-6,\n",
    "               step_tol: float=1e-6,\n",
    "               move_limit: float=5e-2,\n",
    "               plot_interval: int=5,\n",
    "               )->Tuple[mma.MMAState, Dict]:\n",
    "    \n",
    "    \"\"\"\n",
    "    Optimize the design using MMA.\n",
    "    \n",
    "    Args:\n",
    "      init_guess: Normalized initial guess for the optimization with values in [0, 1].\n",
    "      max_vol_frac: Allowable volume fraction.\n",
    "      max_iter: Number of optimization epochs.\n",
    "      kkt_tol : Tolerance for the Karush-Kuhn-Tucker condition.\n",
    "      step_tol : Tolerance for the step size.\n",
    "      move_limit: Learning rate for the optimization.\n",
    "      plot_interval: Interval for plotting the design progress.\n",
    "    \n",
    "    Returns:\n",
    "      Tuple containing the final mma state and  convergence history.\n",
    "    \"\"\"\n",
    "\n",
    "    self.num_design_var = init_design_var.shape[0]\n",
    "    self.design_var = init_design_var\n",
    "    lower_bound = np.zeros((self.num_design_var, 1))\n",
    "    upper_bound = np.ones((self.num_design_var, 1))\n",
    "    mma_params = mma.MMAParams(\n",
    "        max_iter=max_iter,\n",
    "        kkt_tol=kkt_tol,\n",
    "        step_tol=step_tol,\n",
    "        move_limit=move_limit,\n",
    "        num_design_var=self.num_design_var,\n",
    "        num_cons=1,\n",
    "        lower_bound=lower_bound,\n",
    "        upper_bound=upper_bound,\n",
    "    )\n",
    "    self.mma_state = mma.init_mma(self.design_var, mma_params)\n",
    "\n",
    "    def plotfun(x, status = ''):\n",
    "      fig, ax = plt.subplots(1,1)\n",
    "      plt.imshow(x.reshape((self.mesh.nelx, self.mesh.nely)).T,\n",
    "                  cmap=poly_cmap, origin='lower')\n",
    "      ax.set_xticks([])\n",
    "      ax.set_yticks([])\n",
    "      plt.title(status)\n",
    "      plt.show()\n",
    "    history = {'obj':[], 'vol_cons':[]}\n",
    "\n",
    "    while not self.mma_state.is_converged:\n",
    "      objective, grad_obj, (density, poly_params,\n",
    "                    operations, csg_root) = self.objective_fn(self.mma_state.x)\n",
    "      constr, grad_cons = self.constraint_fn(self.mma_state.x, max_vol_frac)\n",
    "\n",
    "      self.mma_state = mma.update_mma(self.mma_state, mma_params,\n",
    "                                 objective, grad_obj,\n",
    "                                 constr, grad_cons\n",
    "                                )\n",
    "      status = (f'epoch {self.mma_state.epoch:d} obj {objective[0]:.2E} '\n",
    "                f'vol cons {constr[0,0]:.2E} ')\n",
    "      history['obj'].append(objective)\n",
    "      history['vol_cons'].append(constr[0,0])\n",
    "\n",
    "      print(status)\n",
    "      if self.mma_state.epoch%plot_interval == 0 or self.mma_state.epoch==1:\n",
    "        plotfun(density, status)\n",
    "\n",
    "    return self.mma_state, history"
   ]
  },
  {
   "cell_type": "code",
   "execution_count": null,
   "metadata": {},
   "outputs": [],
   "source": [
    "optim = Optimizer(solver.loss_function, mesh)"
   ]
  },
  {
   "cell_type": "code",
   "execution_count": null,
   "metadata": {},
   "outputs": [],
   "source": [
    "(mma_state, history) = optim.optimize(\n",
    "                                    np.array(init_design_var),\n",
    "                                    max_vol_frac=cfg_opt['desired_vol_frac'],\n",
    "                                    max_iter=cfg_opt['num_epochs'],\n",
    "                                    move_limit=cfg_opt['learning_rate'],\n",
    "                                    plot_interval=cfg_opt['plot_interval']\n",
    "                                    )"
   ]
  },
  {
   "cell_type": "markdown",
   "metadata": {},
   "source": [
    "# Dump/load files"
   ]
  },
  {
   "cell_type": "code",
   "execution_count": null,
   "metadata": {},
   "outputs": [],
   "source": [
    "def save():\n",
    "  now = datetime.now()\n",
    "  save_file = f\"./results/treetop_{now:%Y-%m-%d-%H-%M}\"\n",
    "\n",
    "  with open(str(save_file) + \"_hist.pkl\", 'wb') as f:\n",
    "    pickle.dump(history, f)\n",
    "  np.save(str(save_file) + \"_mma_state.npy\", mma_state.to_array())\n",
    "\n",
    "# save()"
   ]
  },
  {
   "cell_type": "code",
   "execution_count": null,
   "metadata": {},
   "outputs": [],
   "source": [
    "# load_file = \"./results/treetop_2024-08-16-22-13\"\n",
    "# mma_state_np = np.load(str(load_file) + \"_mma_state.npy\")\n",
    "# mma_state = mma.MMAState.from_array(mma_state_np,\n",
    "#                                      num_design_var=init_design_var.shape[0])\n",
    "# with open(str(load_file) + \"_hist.pkl\", \"rb\") as f:\n",
    "#   history = pickle.load(f)"
   ]
  },
  {
   "cell_type": "markdown",
   "metadata": {},
   "source": [
    "# High resolution plot"
   ]
  },
  {
   "cell_type": "code",
   "execution_count": null,
   "metadata": {},
   "outputs": [],
   "source": [
    "poly_params, operations = optim.get_poly_params_and_operator_from_design_var(mma_state.x, \n",
    "                                                                             1000.)\n",
    "\n",
    "high_res = 3\n",
    "high_res_mesh = mesher.BilinearStructMesher(nelx=high_res*mesh.nelx,\n",
    "                                            nely=high_res*mesh.nely,\n",
    "                                            bounding_box=bbox)\n",
    "poly_sdf = polygon.compute_poly_sdf(poly_params, high_res_mesh)\n",
    "poly_density = polygon.project_sdf_to_density(poly_sdf, high_res_mesh, sharpness=10.)\n",
    "proj_poly_density = material.projection_filter(poly_density, beta=13.)\n",
    "csg_root = tree.eval_binary_csg_tree(proj_poly_density, operations)\n",
    "design_density = material.projection_filter(csg_root.value,\n",
    "                                            beta = 13.)\n",
    "print(design_density.shape)"
   ]
  },
  {
   "cell_type": "code",
   "execution_count": null,
   "metadata": {},
   "outputs": [],
   "source": [
    "plt.figure()\n",
    "plt.imshow(np.round(design_density).reshape((high_res_mesh.nelx, high_res_mesh.nely)).T,\n",
    "            cmap=poly_cmap, origin='lower')\n",
    "plt.axis('off')\n",
    "plt.savefig('mbb_validation.svg')\n",
    "plt.show()"
   ]
  },
  {
   "cell_type": "markdown",
   "metadata": {},
   "source": [
    "# Recover the poly params, operations and tree from the final state"
   ]
  },
  {
   "cell_type": "code",
   "execution_count": null,
   "metadata": {},
   "outputs": [],
   "source": [
    "pruned_csg_root = copy.deepcopy(csg_root)\n",
    "tree.prune_tree(pruned_csg_root)"
   ]
  },
  {
   "cell_type": "code",
   "execution_count": null,
   "metadata": {},
   "outputs": [],
   "source": [
    "labels = [rf'X \\cap Y', rf'X \\cup Y', rf'X \\backslash Y', rf'Y \\backslash X']\n",
    "\n",
    "plot_induvidual = False\n",
    "plot_tree = False\n",
    "for depth in range(1, num_levels+1):\n",
    "  nodes = tree.breadth_first_search_at_depth(pruned_csg_root, depth)\n",
    "  \n",
    "  opers = []\n",
    "  for node in nodes:\n",
    "    if node.operation is not None:\n",
    "      opers.append(labels[np.argmax(node.operation)])\n",
    "    else:\n",
    "      opers.append('\\;') # handle leaf nodes\n",
    "  if len(nodes) == 0:\n",
    "    continue\n",
    "\n",
    "  if plot_tree:\n",
    "    fig, axes = plt.subplots(1, len(nodes), figsize=(len(nodes)*5, 5))\n",
    "    for i, node in enumerate(nodes):\n",
    "      if node.is_redundant:\n",
    "        value = np.zeros_like(node.value)\n",
    "      else:\n",
    "        value = node.value\n",
    "      axes[i].imshow(np.round(value).reshape((high_res_mesh.nelx, high_res_mesh.nely)).T,\n",
    "                      cmap=poly_cmap, origin='lower', vmin=0., vmax=1.)\n",
    "      axes[i].set_xticks([])\n",
    "      axes[i].set_yticks([])\n",
    "      axes[i].set_xlabel(f'${opers[i]}$', fontname='Times New Roman')\n",
    "    fig.savefig(f'./results/depth_{depth}.pdf')\n",
    "  if plot_induvidual:\n",
    "    for i, node in enumerate(nodes):\n",
    "      if node.is_redundant:\n",
    "        value = np.zeros_like(node.value)\n",
    "      else:\n",
    "        value = node.value\n",
    "      infig, inax = plt.subplots(1, 1, figsize=(5, 5))\n",
    "      inax.imshow(np.round(value).reshape((high_res_mesh.nelx, high_res_mesh.nely)).T,\n",
    "                  cmap=poly_cmap, origin='lower', vmin=0., vmax=1.)\n",
    "      inax.set_xticks([])\n",
    "      inax.set_yticks([])\n",
    "      infig.savefig(f'./results/depth_{depth}_node_{i}.pdf', bbox_inches='tight',\n",
    "                    pad_inches=0, transparent=True)"
   ]
  }
 ],
 "metadata": {
  "kernelspec": {
   "display_name": "base",
   "language": "python",
   "name": "python3"
  },
  "language_info": {
   "codemirror_mode": {
    "name": "ipython",
    "version": 3
   },
   "file_extension": ".py",
   "mimetype": "text/x-python",
   "name": "python",
   "nbconvert_exporter": "python",
   "pygments_lexer": "ipython3",
   "version": "3.10.9"
  },
  "orig_nbformat": 4
 },
 "nbformat": 4,
 "nbformat_minor": 2
}
